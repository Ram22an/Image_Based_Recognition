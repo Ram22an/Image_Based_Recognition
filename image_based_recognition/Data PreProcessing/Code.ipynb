{
 "cells": [
  {
   "cell_type": "code",
   "execution_count": 3,
   "metadata": {},
   "outputs": [],
   "source": [
    "## Importing the libraries\n",
    "import numpy as np\n",
    "import matplotlib.pyplot as plt\n",
    "import pandas as pd"
   ]
  },
  {
   "cell_type": "code",
   "execution_count": 9,
   "metadata": {},
   "outputs": [],
   "source": [
    "## Importing Dataset\n",
    "# Covid_Data_new.xlsx file ko pandas ke read_csv function se read kar rahe hain\n",
    "Data_set=pd.read_csv('Covid_Data_new.csv')\n",
    "\n",
    "# iloc ka use karke hum data ko select kar rahe hain:\n",
    "# : means saari rows select karo\n",
    "# :-1 means last column ko chhodkar saare columns select karo\n",
    "# .values converts pandas DataFrame ko numpy array mein convert karta hai\n",
    "# Toh X mein ab saari rows aur last column ko chhodkar saare columns ka data numpy array ke form mein store ho jayega\n",
    "X=Data_set.iloc[:,:-1].values\n",
    "\n",
    "Y=Data_set.iloc[:,-1].values"
   ]
  }
 ],
 "metadata": {
  "kernelspec": {
   "display_name": "Python 3",
   "language": "python",
   "name": "python3"
  },
  "language_info": {
   "codemirror_mode": {
    "name": "ipython",
    "version": 3
   },
   "file_extension": ".py",
   "mimetype": "text/x-python",
   "name": "python",
   "nbconvert_exporter": "python",
   "pygments_lexer": "ipython3",
   "version": "3.11.1"
  }
 },
 "nbformat": 4,
 "nbformat_minor": 2
}
